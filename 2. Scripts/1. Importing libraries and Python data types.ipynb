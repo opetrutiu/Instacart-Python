{
 "cells": [
  {
   "cell_type": "markdown",
   "id": "18532838",
   "metadata": {},
   "source": [
    "# 01. Importing libraries"
   ]
  },
  {
   "cell_type": "code",
   "execution_count": 1,
   "id": "06414988",
   "metadata": {},
   "outputs": [],
   "source": [
    "# Import libraries\n",
    "import pandas as pd\n",
    "import numpy as np\n",
    "import os"
   ]
  },
  {
   "cell_type": "markdown",
   "id": "96b2b9b5",
   "metadata": {},
   "source": [
    "# 02. Data types"
   ]
  },
  {
   "cell_type": "code",
   "execution_count": 4,
   "id": "2a1600ad",
   "metadata": {},
   "outputs": [
    {
     "data": {
      "text/plain": [
       "(100, 100, 100)"
      ]
     },
     "execution_count": 4,
     "metadata": {},
     "output_type": "execute_result"
    }
   ],
   "source": [
    "# Integers\n",
    "a = 85\n",
    "b = 15\n",
    "c = 101\n",
    "d = 1\n",
    "e = 84\n",
    "f = 0\n",
    "a + b, c-d, c - a + e + f"
   ]
  },
  {
   "cell_type": "code",
   "execution_count": 5,
   "id": "975b3ae4",
   "metadata": {},
   "outputs": [
    {
     "data": {
      "text/plain": [
       "(80.85550847457628, 0.012367741157851156)"
      ]
     },
     "execution_count": 5,
     "metadata": {},
     "output_type": "execute_result"
    }
   ],
   "source": [
    "# Floating-point numbers\n",
    "g = 19.0819\n",
    "h = 0.236\n",
    "g / h, h / g"
   ]
  },
  {
   "cell_type": "code",
   "execution_count": 6,
   "id": "21eca05e",
   "metadata": {},
   "outputs": [
    {
     "data": {
      "text/plain": [
       "'jupyter'"
      ]
     },
     "execution_count": 6,
     "metadata": {},
     "output_type": "execute_result"
    }
   ],
   "source": [
    "# String word\n",
    "i = 'jup'\n",
    "j = 'yter'\n",
    "i + j"
   ]
  },
  {
   "cell_type": "code",
   "execution_count": 8,
   "id": "7cc71cf6",
   "metadata": {},
   "outputs": [
    {
     "data": {
      "text/plain": [
       "'When we strive to become better than we are, everything around us becomes better too.'"
      ]
     },
     "execution_count": 8,
     "metadata": {},
     "output_type": "execute_result"
    }
   ],
   "source": [
    "# String sentence\n",
    "k = 'When we strive to be'\n",
    "l = 'come better than we are, '\n",
    "m = 'everything around us '\n",
    "n = 'becomes better'\n",
    "o = ' too.'\n",
    "k + l + m + n + o"
   ]
  },
  {
   "cell_type": "code",
   "execution_count": 9,
   "id": "cc1375ef",
   "metadata": {},
   "outputs": [
    {
     "data": {
      "text/plain": [
       "'funfunfunfunfunfunfunfunfunfunfunfunfunfunfunfunfunfunfunfunfunfunfunfunfunfunfunfunfunfunfunfunfunfunfunfunfunfunfunfunfunfunfunfunfunfunfunfunfunfunfunfunfunfunfunfunfunfunfunfunfunfunfunfunfunfunfunfunfunfunfunfunfunfunfunfunfunfunfunfunfunfunfunfunfunfunfunfunfunfunfunfunfunfunfunfunfunfunfunfun'"
      ]
     },
     "execution_count": 9,
     "metadata": {},
     "output_type": "execute_result"
    }
   ],
   "source": [
    "# Bonus\n",
    "p = 'fun'\n",
    "p * 100"
   ]
  }
 ],
 "metadata": {
  "kernelspec": {
   "display_name": "Python 3 (ipykernel)",
   "language": "python",
   "name": "python3"
  },
  "language_info": {
   "codemirror_mode": {
    "name": "ipython",
    "version": 3
   },
   "file_extension": ".py",
   "mimetype": "text/x-python",
   "name": "python",
   "nbconvert_exporter": "python",
   "pygments_lexer": "ipython3",
   "version": "3.9.13"
  }
 },
 "nbformat": 4,
 "nbformat_minor": 5
}
